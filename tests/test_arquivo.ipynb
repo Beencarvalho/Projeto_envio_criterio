{
 "cells": [
  {
   "cell_type": "code",
   "execution_count": 1,
   "metadata": {},
   "outputs": [],
   "source": [
    "import pandas as pd\n",
    "import glob\n",
    "import requests\n",
    "import json\n",
    "import os"
   ]
  },
  {
   "cell_type": "code",
   "execution_count": 3,
   "metadata": {},
   "outputs": [
    {
     "name": "stderr",
     "output_type": "stream",
     "text": [
      "<>:1: SyntaxWarning: invalid escape sequence '\\M'\n",
      "<>:1: SyntaxWarning: invalid escape sequence '\\M'\n",
      "C:\\Users\\c29153\\AppData\\Local\\Temp\\ipykernel_14368\\2447735123.py:1: SyntaxWarning: invalid escape sequence '\\M'\n",
      "  file_path = 'data\\MV sem HMS HMC FSC.xlsx'\n"
     ]
    }
   ],
   "source": [
    "file_path = 'data\\MV sem HMS HMC FSC.xlsx'"
   ]
  },
  {
   "cell_type": "code",
   "execution_count": 7,
   "metadata": {},
   "outputs": [],
   "source": [
    "df2 = pd.read_excel(file_path)"
   ]
  },
  {
   "cell_type": "code",
   "execution_count": 22,
   "metadata": {},
   "outputs": [
    {
     "data": {
      "text/plain": [
       "'Quantidade de usuários MV por setor'"
      ]
     },
     "execution_count": 22,
     "metadata": {},
     "output_type": "execute_result"
    }
   ],
   "source": [
    "df2.iloc[3, 5]"
   ]
  },
  {
   "cell_type": "code",
   "execution_count": 5,
   "metadata": {},
   "outputs": [
    {
     "data": {
      "text/html": [
       "<div>\n",
       "<style scoped>\n",
       "    .dataframe tbody tr th:only-of-type {\n",
       "        vertical-align: middle;\n",
       "    }\n",
       "\n",
       "    .dataframe tbody tr th {\n",
       "        vertical-align: top;\n",
       "    }\n",
       "\n",
       "    .dataframe thead th {\n",
       "        text-align: right;\n",
       "    }\n",
       "</style>\n",
       "<table border=\"1\" class=\"dataframe\">\n",
       "  <thead>\n",
       "    <tr style=\"text-align: right;\">\n",
       "      <th></th>\n",
       "      <th>EMPRESA</th>\n",
       "      <th>COD_SETOR</th>\n",
       "      <th>CENTRO_CUSTO</th>\n",
       "      <th>SETOR</th>\n",
       "      <th>BASE</th>\n",
       "      <th>DISTRIBUICAO (%)</th>\n",
       "    </tr>\n",
       "  </thead>\n",
       "  <tbody>\n",
       "    <tr>\n",
       "      <th>0</th>\n",
       "      <td>01 - MATRIZ - SCMBA</td>\n",
       "      <td>3.0</td>\n",
       "      <td>11.001</td>\n",
       "      <td>GERENCIA DE COMUNICACAO CORPORATIVA</td>\n",
       "      <td>5</td>\n",
       "      <td>0.001022</td>\n",
       "    </tr>\n",
       "    <tr>\n",
       "      <th>1</th>\n",
       "      <td>01 - MATRIZ - SCMBA</td>\n",
       "      <td>5.0</td>\n",
       "      <td>11.010</td>\n",
       "      <td>SECRETARIA GERAL - ADM CENTRAL</td>\n",
       "      <td>1</td>\n",
       "      <td>0.000204</td>\n",
       "    </tr>\n",
       "    <tr>\n",
       "      <th>2</th>\n",
       "      <td>01 - MATRIZ - SCMBA</td>\n",
       "      <td>7.0</td>\n",
       "      <td>11.013</td>\n",
       "      <td>PROVEDORIA</td>\n",
       "      <td>1</td>\n",
       "      <td>0.000204</td>\n",
       "    </tr>\n",
       "    <tr>\n",
       "      <th>3</th>\n",
       "      <td>01 - MATRIZ - SCMBA</td>\n",
       "      <td>11.0</td>\n",
       "      <td>11.019</td>\n",
       "      <td>GERENCIA DE CAPTACAO DE RECURSOS</td>\n",
       "      <td>2</td>\n",
       "      <td>0.000409</td>\n",
       "    </tr>\n",
       "    <tr>\n",
       "      <th>4</th>\n",
       "      <td>01 - MATRIZ - SCMBA</td>\n",
       "      <td>13.0</td>\n",
       "      <td>12.001</td>\n",
       "      <td>SUPERINTENDENCIA DE SERVICOS CORPORATIVOS</td>\n",
       "      <td>3</td>\n",
       "      <td>0.000613</td>\n",
       "    </tr>\n",
       "  </tbody>\n",
       "</table>\n",
       "</div>"
      ],
      "text/plain": [
       "               EMPRESA  COD_SETOR  CENTRO_CUSTO  \\\n",
       "0  01 - MATRIZ - SCMBA        3.0        11.001   \n",
       "1  01 - MATRIZ - SCMBA        5.0        11.010   \n",
       "2  01 - MATRIZ - SCMBA        7.0        11.013   \n",
       "3  01 - MATRIZ - SCMBA       11.0        11.019   \n",
       "4  01 - MATRIZ - SCMBA       13.0        12.001   \n",
       "\n",
       "                                       SETOR  BASE  DISTRIBUICAO (%)  \n",
       "0        GERENCIA DE COMUNICACAO CORPORATIVA     5          0.001022  \n",
       "1             SECRETARIA GERAL - ADM CENTRAL     1          0.000204  \n",
       "2                                 PROVEDORIA     1          0.000204  \n",
       "3           GERENCIA DE CAPTACAO DE RECURSOS     2          0.000409  \n",
       "4  SUPERINTENDENCIA DE SERVICOS CORPORATIVOS     3          0.000613  "
      ]
     },
     "execution_count": 5,
     "metadata": {},
     "output_type": "execute_result"
    }
   ],
   "source": [
    "dfo = pd.read_excel(file_path, skiprows=8)\n",
    "df = dfo.iloc[:, :6]\n",
    "df.head()"
   ]
  },
  {
   "cell_type": "code",
   "execution_count": 6,
   "metadata": {},
   "outputs": [
    {
     "data": {
      "text/html": [
       "<div>\n",
       "<style scoped>\n",
       "    .dataframe tbody tr th:only-of-type {\n",
       "        vertical-align: middle;\n",
       "    }\n",
       "\n",
       "    .dataframe tbody tr th {\n",
       "        vertical-align: top;\n",
       "    }\n",
       "\n",
       "    .dataframe thead th {\n",
       "        text-align: right;\n",
       "    }\n",
       "</style>\n",
       "<table border=\"1\" class=\"dataframe\">\n",
       "  <thead>\n",
       "    <tr style=\"text-align: right;\">\n",
       "      <th></th>\n",
       "      <th>EMPRESA</th>\n",
       "      <th>COD_SETOR</th>\n",
       "      <th>CENTRO_CUSTO</th>\n",
       "      <th>SETOR</th>\n",
       "      <th>BASE</th>\n",
       "      <th>DISTRIBUICAO (%)</th>\n",
       "    </tr>\n",
       "  </thead>\n",
       "  <tbody>\n",
       "    <tr>\n",
       "      <th>191</th>\n",
       "      <td>07 - PATRIMONIO CULTURAL</td>\n",
       "      <td>546.0</td>\n",
       "      <td>14.005</td>\n",
       "      <td>CENTRO DE MEMORIA JORGE CALMOM</td>\n",
       "      <td>1</td>\n",
       "      <td>0.000204</td>\n",
       "    </tr>\n",
       "    <tr>\n",
       "      <th>192</th>\n",
       "      <td>07 - PATRIMONIO CULTURAL</td>\n",
       "      <td>547.0</td>\n",
       "      <td>14.007</td>\n",
       "      <td>MUSEU DA MISERICORDIA</td>\n",
       "      <td>3</td>\n",
       "      <td>0.000613</td>\n",
       "    </tr>\n",
       "    <tr>\n",
       "      <th>193</th>\n",
       "      <td>10 - CENTRAL DE DOACOES</td>\n",
       "      <td>649.0</td>\n",
       "      <td>17.001</td>\n",
       "      <td>TELE DOACAO</td>\n",
       "      <td>1</td>\n",
       "      <td>0.000204</td>\n",
       "    </tr>\n",
       "    <tr>\n",
       "      <th>194</th>\n",
       "      <td>15 - CASA DA LADEIRA</td>\n",
       "      <td>1311.0</td>\n",
       "      <td>30.001</td>\n",
       "      <td>ACOLH INFAN JUVENIL - P CONTAS</td>\n",
       "      <td>3</td>\n",
       "      <td>0.000613</td>\n",
       "    </tr>\n",
       "    <tr>\n",
       "      <th>195</th>\n",
       "      <td>Total</td>\n",
       "      <td>NaN</td>\n",
       "      <td>195.000</td>\n",
       "      <td>NaN</td>\n",
       "      <td>4894</td>\n",
       "      <td>1.000000</td>\n",
       "    </tr>\n",
       "  </tbody>\n",
       "</table>\n",
       "</div>"
      ],
      "text/plain": [
       "                      EMPRESA  COD_SETOR  CENTRO_CUSTO  \\\n",
       "191  07 - PATRIMONIO CULTURAL      546.0        14.005   \n",
       "192  07 - PATRIMONIO CULTURAL      547.0        14.007   \n",
       "193   10 - CENTRAL DE DOACOES      649.0        17.001   \n",
       "194      15 - CASA DA LADEIRA     1311.0        30.001   \n",
       "195                     Total        NaN       195.000   \n",
       "\n",
       "                              SETOR  BASE  DISTRIBUICAO (%)  \n",
       "191  CENTRO DE MEMORIA JORGE CALMOM     1          0.000204  \n",
       "192           MUSEU DA MISERICORDIA     3          0.000613  \n",
       "193                     TELE DOACAO     1          0.000204  \n",
       "194  ACOLH INFAN JUVENIL - P CONTAS     3          0.000613  \n",
       "195                             NaN  4894          1.000000  "
      ]
     },
     "execution_count": 6,
     "metadata": {},
     "output_type": "execute_result"
    }
   ],
   "source": [
    "df.tail()"
   ]
  },
  {
   "cell_type": "code",
   "execution_count": 6,
   "metadata": {},
   "outputs": [],
   "source": [
    "# Converter o dataframe para JSON\n",
    "dados_json = df.to_json(orient='records')"
   ]
  },
  {
   "cell_type": "code",
   "execution_count": 7,
   "metadata": {},
   "outputs": [],
   "source": [
    "## arquivos_excel = glob.glob(f'{pasta}/*.xlsx')\n",
    "\n",
    "# Loop sobre cada arquivo na pasta\n",
    "#for caminho_arquivo in arquivos_excel:\n",
    "    # Extrair o nome do arquivo\n",
    "    #arquivo = caminho_arquivo.split('/')[-1]\n",
    "    \n",
    "    # Ler o arquivo Excel\n",
    "    #df = pd.read_excel(caminho_arquivo, skiprows=8)\n",
    "    #df = df.iloc[:, :6]\n",
    "    \n",
    "    # Converter o dataframe para JSON\n",
    "    #dados_json = df.to_json(orient='records')\n",
    "    \n",
    "    # Enviar a requisição POST\n",
    "    #response = requests.post(url, data=dados_json, headers=headers)\n",
    "    \n",
    "    # Verificar o status da requisição\n",
    "    #if response.status_code == 200:\n",
    "        #print(f\"Dados do arquivo {arquivo} enviados com sucesso!\")\n",
    "    #else:\n",
    "        #print(f\"Falha ao enviar os dados do arquivo {arquivo}. Código de status: {response.status_code}\")\n",
    "        #print(\"Resposta da API:\", response.text)"
   ]
  }
 ],
 "metadata": {
  "kernelspec": {
   "display_name": ".venv",
   "language": "python",
   "name": "python3"
  },
  "language_info": {
   "codemirror_mode": {
    "name": "ipython",
    "version": 3
   },
   "file_extension": ".py",
   "mimetype": "text/x-python",
   "name": "python",
   "nbconvert_exporter": "python",
   "pygments_lexer": "ipython3",
   "version": "3.12.5"
  }
 },
 "nbformat": 4,
 "nbformat_minor": 2
}
